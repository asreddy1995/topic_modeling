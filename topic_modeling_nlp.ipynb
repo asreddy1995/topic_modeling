{
 "cells": [
  {
   "cell_type": "code",
   "execution_count": 1,
   "id": "822c8d51",
   "metadata": {},
   "outputs": [],
   "source": [
    "import pandas as pd"
   ]
  },
  {
   "cell_type": "code",
   "execution_count": 48,
   "id": "c58519d8",
   "metadata": {},
   "outputs": [
    {
     "name": "stderr",
     "output_type": "stream",
     "text": [
      "Skipping line 1598: unexpected end of data\n"
     ]
    },
    {
     "data": {
      "text/html": [
       "<div>\n",
       "<style scoped>\n",
       "    .dataframe tbody tr th:only-of-type {\n",
       "        vertical-align: middle;\n",
       "    }\n",
       "\n",
       "    .dataframe tbody tr th {\n",
       "        vertical-align: top;\n",
       "    }\n",
       "\n",
       "    .dataframe thead th {\n",
       "        text-align: right;\n",
       "    }\n",
       "</style>\n",
       "<table border=\"1\" class=\"dataframe\">\n",
       "  <thead>\n",
       "    <tr style=\"text-align: right;\">\n",
       "      <th></th>\n",
       "      <th>ID</th>\n",
       "      <th>TITLE</th>\n",
       "      <th>ABSTRACT</th>\n",
       "      <th>Computer Science</th>\n",
       "      <th>Physics</th>\n",
       "      <th>Mathematics</th>\n",
       "      <th>Statistics</th>\n",
       "      <th>Quantitative Biology</th>\n",
       "      <th>Quantitative Finance</th>\n",
       "    </tr>\n",
       "  </thead>\n",
       "  <tbody>\n",
       "    <tr>\n",
       "      <th>0</th>\n",
       "      <td>1</td>\n",
       "      <td>Reconstructing Subject-Specific Effect Maps</td>\n",
       "      <td>Predictive models allow subject-specific inf...</td>\n",
       "      <td>1</td>\n",
       "      <td>0</td>\n",
       "      <td>0</td>\n",
       "      <td>0</td>\n",
       "      <td>0</td>\n",
       "      <td>0</td>\n",
       "    </tr>\n",
       "    <tr>\n",
       "      <th>1</th>\n",
       "      <td>2</td>\n",
       "      <td>Rotation Invariance Neural Network</td>\n",
       "      <td>Rotation invariance and translation invarian...</td>\n",
       "      <td>1</td>\n",
       "      <td>0</td>\n",
       "      <td>0</td>\n",
       "      <td>0</td>\n",
       "      <td>0</td>\n",
       "      <td>0</td>\n",
       "    </tr>\n",
       "    <tr>\n",
       "      <th>2</th>\n",
       "      <td>3</td>\n",
       "      <td>Spherical polyharmonics and Poisson kernels fo...</td>\n",
       "      <td>We introduce and develop the notion of spher...</td>\n",
       "      <td>0</td>\n",
       "      <td>0</td>\n",
       "      <td>1</td>\n",
       "      <td>0</td>\n",
       "      <td>0</td>\n",
       "      <td>0</td>\n",
       "    </tr>\n",
       "    <tr>\n",
       "      <th>3</th>\n",
       "      <td>4</td>\n",
       "      <td>A finite element approximation for the stochas...</td>\n",
       "      <td>The stochastic Landau--Lifshitz--Gilbert (LL...</td>\n",
       "      <td>0</td>\n",
       "      <td>0</td>\n",
       "      <td>1</td>\n",
       "      <td>0</td>\n",
       "      <td>0</td>\n",
       "      <td>0</td>\n",
       "    </tr>\n",
       "    <tr>\n",
       "      <th>4</th>\n",
       "      <td>5</td>\n",
       "      <td>Comparative study of Discrete Wavelet Transfor...</td>\n",
       "      <td>Fourier-transform infra-red (FTIR) spectra o...</td>\n",
       "      <td>1</td>\n",
       "      <td>0</td>\n",
       "      <td>0</td>\n",
       "      <td>1</td>\n",
       "      <td>0</td>\n",
       "      <td>0</td>\n",
       "    </tr>\n",
       "  </tbody>\n",
       "</table>\n",
       "</div>"
      ],
      "text/plain": [
       "   ID                                              TITLE  \\\n",
       "0   1        Reconstructing Subject-Specific Effect Maps   \n",
       "1   2                 Rotation Invariance Neural Network   \n",
       "2   3  Spherical polyharmonics and Poisson kernels fo...   \n",
       "3   4  A finite element approximation for the stochas...   \n",
       "4   5  Comparative study of Discrete Wavelet Transfor...   \n",
       "\n",
       "                                            ABSTRACT  Computer Science  \\\n",
       "0    Predictive models allow subject-specific inf...                 1   \n",
       "1    Rotation invariance and translation invarian...                 1   \n",
       "2    We introduce and develop the notion of spher...                 0   \n",
       "3    The stochastic Landau--Lifshitz--Gilbert (LL...                 0   \n",
       "4    Fourier-transform infra-red (FTIR) spectra o...                 1   \n",
       "\n",
       "   Physics  Mathematics  Statistics  Quantitative Biology  \\\n",
       "0        0            0           0                     0   \n",
       "1        0            0           0                     0   \n",
       "2        0            1           0                     0   \n",
       "3        0            1           0                     0   \n",
       "4        0            0           1                     0   \n",
       "\n",
       "   Quantitative Finance  \n",
       "0                     0  \n",
       "1                     0  \n",
       "2                     0  \n",
       "3                     0  \n",
       "4                     0  "
      ]
     },
     "execution_count": 48,
     "metadata": {},
     "output_type": "execute_result"
    }
   ],
   "source": [
    "df=pd.read_csv(r'C:\\Users\\My Pc\\ML_project\\text\\text_summar\\topic_modeling_nlp\\modeling.csv',engine='python', encoding='utf-8',error_bad_lines=False)\n",
    "df.head()"
   ]
  },
  {
   "cell_type": "code",
   "execution_count": 49,
   "id": "02e94a24",
   "metadata": {},
   "outputs": [
    {
     "data": {
      "text/plain": [
       "\"  Predictive models allow subject-specific inference when analyzing disease\\r\\nrelated alterations in neuroimaging data. Given a subject's data, inference can\\r\\nbe made at two levels: global, i.e. identifiying condition presence for the\\r\\nsubject, and local, i.e. detecting condition effect on each individual\\r\\nmeasurement extracted from the subject's data. While global inference is widely\\r\\nused, local inference, which can be used to form subject-specific effect maps,\\r\\nis rarely used because existing models often yield noisy detections composed of\\r\\ndispersed isolated islands. In this article, we propose a reconstruction\\r\\nmethod, named RSM, to improve subject-specific detections of predictive\\r\\nmodeling approaches and in particular, binary classifiers. RSM specifically\\r\\naims to reduce noise due to sampling error associated with using a finite\\r\\nsample of examples to train classifiers. The proposed method is a wrapper-type\\r\\nalgorithm that can be used with different binary classifiers in a diagnostic\\r\\nmanner, i.e. without information on condition presence. Reconstruction is posed\\r\\nas a Maximum-A-Posteriori problem with a prior model whose parameters are\\r\\nestimated from training data in a classifier-specific fashion. Experimental\\r\\nevaluation is performed on synthetically generated data and data from the\\r\\nAlzheimer's Disease Neuroimaging Initiative (ADNI) database. Results on\\r\\nsynthetic data demonstrate that using RSM yields higher detection accuracy\\r\\ncompared to using models directly or with bootstrap averaging. Analyses on the\\r\\nADNI dataset show that RSM can also improve correlation between\\r\\nsubject-specific detections in cortical thickness data and non-imaging markers\\r\\nof Alzheimer's Disease (AD), such as the Mini Mental State Examination Score\\r\\nand Cerebrospinal Fluid amyloid-$\\\\beta$ levels. Further reliability studies on\\r\\nthe longitudinal ADNI dataset show improvement on detection reliability when\\r\\nRSM is used.\\r\\n\""
      ]
     },
     "execution_count": 49,
     "metadata": {},
     "output_type": "execute_result"
    }
   ],
   "source": [
    "df.ABSTRACT[0]"
   ]
  },
  {
   "cell_type": "code",
   "execution_count": 4,
   "id": "6c16617f",
   "metadata": {},
   "outputs": [],
   "source": [
    "from sklearn.feature_extraction.text import CountVectorizer\n",
    "countvec=CountVectorizer(max_df=0.9, min_df=2, stop_words='english')"
   ]
  },
  {
   "cell_type": "code",
   "execution_count": 5,
   "id": "fd9be5e5",
   "metadata": {},
   "outputs": [],
   "source": [
    "dt=countvec.fit_transform(df['ABSTRACT'])"
   ]
  },
  {
   "cell_type": "code",
   "execution_count": 6,
   "id": "0aef14b6",
   "metadata": {},
   "outputs": [
    {
     "data": {
      "text/plain": [
       "<1596x7571 sparse matrix of type '<class 'numpy.int64'>'\n",
       "\twith 97532 stored elements in Compressed Sparse Row format>"
      ]
     },
     "execution_count": 6,
     "metadata": {},
     "output_type": "execute_result"
    }
   ],
   "source": [
    "dt"
   ]
  },
  {
   "cell_type": "code",
   "execution_count": 8,
   "id": "1db94431",
   "metadata": {},
   "outputs": [],
   "source": [
    "from sklearn.decomposition import LatentDirichletAllocation"
   ]
  },
  {
   "cell_type": "code",
   "execution_count": 12,
   "id": "ddcc5202",
   "metadata": {},
   "outputs": [],
   "source": [
    "from sklearn.decomposition import LatentDirichletAllocation\n",
    "lda=LatentDirichletAllocation(n_components=7, random_state=42)"
   ]
  },
  {
   "cell_type": "code",
   "execution_count": 13,
   "id": "8dc2948f",
   "metadata": {},
   "outputs": [
    {
     "data": {
      "text/plain": [
       "LatentDirichletAllocation(n_components=7, random_state=42)"
      ]
     },
     "execution_count": 13,
     "metadata": {},
     "output_type": "execute_result"
    }
   ],
   "source": [
    "lda.fit(dt)"
   ]
  },
  {
   "cell_type": "code",
   "execution_count": null,
   "id": "5ac0e42d",
   "metadata": {},
   "outputs": [],
   "source": [
    "#grab the vocabulary of words\n",
    "len(countervec.get_feature_names())"
   ]
  },
  {
   "cell_type": "code",
   "execution_count": 16,
   "id": "050747ec",
   "metadata": {},
   "outputs": [
    {
     "data": {
      "text/plain": [
       "7"
      ]
     },
     "execution_count": 16,
     "metadata": {},
     "output_type": "execute_result"
    }
   ],
   "source": [
    "len(lda.components_)"
   ]
  },
  {
   "cell_type": "code",
   "execution_count": 17,
   "id": "4f7d9c66",
   "metadata": {},
   "outputs": [
    {
     "data": {
      "text/plain": [
       "(7, 7571)"
      ]
     },
     "execution_count": 17,
     "metadata": {},
     "output_type": "execute_result"
    }
   ],
   "source": [
    "(lda.components_).shape"
   ]
  },
  {
   "cell_type": "code",
   "execution_count": 18,
   "id": "851da684",
   "metadata": {},
   "outputs": [
    {
     "data": {
      "text/plain": [
       "array([[ 5.87185861,  0.14288054,  0.14285715, ...,  0.14285716,\n",
       "         0.1432912 ,  0.14346516],\n",
       "       [ 4.20746671,  0.14346184,  0.14285716, ...,  0.14341726,\n",
       "         0.14324281,  0.14285719],\n",
       "       [ 0.14408736,  0.14731263,  0.14285715, ...,  0.1429375 ,\n",
       "         0.14307517,  0.14303461],\n",
       "       ...,\n",
       "       [ 1.3452748 ,  0.14902094,  2.14285092, ...,  6.14221656,\n",
       "         6.14225729,  2.14208429],\n",
       "       [ 0.14544216,  0.14288876,  0.14285715, ...,  0.14285716,\n",
       "         2.1423187 ,  1.14185899],\n",
       "       [ 0.14286396, 11.13071694,  0.14285716, ...,  0.14285718,\n",
       "         0.14293738,  0.14285718]])"
      ]
     },
     "execution_count": 18,
     "metadata": {},
     "output_type": "execute_result"
    }
   ],
   "source": [
    "lda.components_"
   ]
  },
  {
   "cell_type": "code",
   "execution_count": 21,
   "id": "3df283c6",
   "metadata": {},
   "outputs": [],
   "source": [
    "#grab the topics\n",
    "singletopic=lda.components_[0]"
   ]
  },
  {
   "cell_type": "raw",
   "id": "efab2fc1",
   "metadata": {},
   "source": [
    "#argsort gives us indexes of the particular array\n",
    "singletopic.argsort()"
   ]
  },
  {
   "cell_type": "code",
   "execution_count": 22,
   "id": "06c25610",
   "metadata": {},
   "outputs": [],
   "source": [
    "import numpy"
   ]
  },
  {
   "cell_type": "code",
   "execution_count": 23,
   "id": "bde72543",
   "metadata": {},
   "outputs": [],
   "source": [
    "arr=numpy.array([12,1,199])"
   ]
  },
  {
   "cell_type": "code",
   "execution_count": 24,
   "id": "5d47e0b1",
   "metadata": {},
   "outputs": [
    {
     "data": {
      "text/plain": [
       "array([1, 0, 2], dtype=int64)"
      ]
     },
     "execution_count": 24,
     "metadata": {},
     "output_type": "execute_result"
    }
   ],
   "source": [
    "arr.argsort()"
   ]
  },
  {
   "cell_type": "code",
   "execution_count": 25,
   "id": "23e5d36a",
   "metadata": {},
   "outputs": [
    {
     "data": {
      "text/plain": [
       "array([4346, 3131, 4718,  761, 5927, 4635, 6953, 4933, 5358,  382],\n",
       "      dtype=int64)"
      ]
     },
     "execution_count": 25,
     "metadata": {},
     "output_type": "execute_result"
    }
   ],
   "source": [
    "#argsort index position sorted from least\n",
    "singletopic.argsort()[-10:]"
   ]
  },
  {
   "cell_type": "code",
   "execution_count": 26,
   "id": "9166677b",
   "metadata": {},
   "outputs": [],
   "source": [
    "#these are index position of top 10 in 1st topic\n",
    "top_ten=singletopic.argsort()[-10:]"
   ]
  },
  {
   "cell_type": "code",
   "execution_count": 27,
   "id": "e9ec74a1",
   "metadata": {},
   "outputs": [
    {
     "name": "stdout",
     "output_type": "stream",
     "text": [
      "methods\n",
      "graph\n",
      "number\n",
      "based\n",
      "results\n",
      "new\n",
      "time\n",
      "paper\n",
      "problem\n",
      "algorithm\n"
     ]
    }
   ],
   "source": [
    "#we will corelate this with countvectorizer vocabilary to get words\n",
    "for index in top_ten:\n",
    "    print(countvec.get_feature_names()[index])"
   ]
  },
  {
   "cell_type": "code",
   "execution_count": 30,
   "id": "98bc6b15",
   "metadata": {},
   "outputs": [
    {
     "name": "stdout",
     "output_type": "stream",
     "text": [
      "top 15 wordsin topic 0\n",
      "['non', 'proposed', 'problems', 'model', 'method', 'methods', 'graph', 'number', 'based', 'results', 'new', 'time', 'paper', 'problem', 'algorithm']\n",
      "top 15 wordsin topic 1\n",
      "['effects', 'quantum', 'using', 'semi', 'space', 'type', 'topological', 'prove', 'non', 'theory', 'results', 'study', 'time', 'variational', 'model']\n",
      "top 15 wordsin topic 2\n",
      "['networks', 'learning', 'time', 'method', 'network', 'large', 'models', 'analysis', 'used', 'results', 'methods', 'using', 'based', 'model', 'data']\n",
      "top 15 wordsin topic 3\n",
      "['conditions', 'solutions', 'wave', 'delta', 'non', 'mathbb', 'space', 'time', 'states', 'model', 'equations', 'results', 'boundary', 'study', 'equation']\n",
      "top 15 wordsin topic 4\n",
      "['structure', 'mass', 'properties', 'state', '10', 'quantum', 'high', 'temperature', 'low', 'phase', 'surface', 'energy', 'field', 'spin', 'magnetic']\n",
      "top 15 wordsin topic 5\n",
      "['models', 'paper', 'proposed', 'approach', 'using', 'deep', 'neural', 'performance', 'networks', 'based', 'method', 'learning', 'model', 'data', 'network']\n",
      "top 15 wordsin topic 6\n",
      "['distance', 'case', 'study', 'based', 'used', 'theory', 'using', 'density', 'estimator', 'results', 'power', 'data', 'model', 'energy', 'function']\n"
     ]
    }
   ],
   "source": [
    "#grab the highest probability wrds per topic:\n",
    "for i, topic in enumerate (lda.components_):\n",
    "    print(f'top 15 wordsin topic {i}')\n",
    "    print([countvec.get_feature_names()[index] for index in topic.argsort()[-15:]])"
   ]
  },
  {
   "cell_type": "code",
   "execution_count": 31,
   "id": "56bd1e4f",
   "metadata": {},
   "outputs": [
    {
     "data": {
      "text/plain": [
       "0         Predictive models allow subject-specific inf...\n",
       "1         Rotation invariance and translation invarian...\n",
       "2         We introduce and develop the notion of spher...\n",
       "3         The stochastic Landau--Lifshitz--Gilbert (LL...\n",
       "4         Fourier-transform infra-red (FTIR) spectra o...\n",
       "                              ...                        \n",
       "1591      The central aim in this paper is to address ...\n",
       "1592      Assessment of the motor activity of group-ho...\n",
       "1593      The origin of ultrahigh-energy cosmic rays (...\n",
       "1594      It is widely recognized that citation counts...\n",
       "1595      Since their inception in the 1980's, regress...\n",
       "Name: ABSTRACT, Length: 1596, dtype: object"
      ]
     },
     "execution_count": 31,
     "metadata": {},
     "output_type": "execute_result"
    }
   ],
   "source": [
    "df.ABSTRACT"
   ]
  },
  {
   "cell_type": "code",
   "execution_count": 32,
   "id": "3b1a2d7f",
   "metadata": {},
   "outputs": [],
   "source": [
    "results=lda.transform(dt)"
   ]
  },
  {
   "cell_type": "code",
   "execution_count": 33,
   "id": "d8e16267",
   "metadata": {},
   "outputs": [
    {
     "data": {
      "text/plain": [
       "array([8.53567351e-04, 8.52877976e-04, 9.94878425e-01, 8.53645750e-04,\n",
       "       8.53392790e-04, 8.54096200e-04, 8.53995055e-04])"
      ]
     },
     "execution_count": 33,
     "metadata": {},
     "output_type": "execute_result"
    }
   ],
   "source": [
    "results[0]"
   ]
  },
  {
   "cell_type": "code",
   "execution_count": 34,
   "id": "e90444ad",
   "metadata": {},
   "outputs": [],
   "source": [
    "results=lda.transform(dt)"
   ]
  },
  {
   "cell_type": "code",
   "execution_count": 35,
   "id": "2910b6a3",
   "metadata": {},
   "outputs": [
    {
     "data": {
      "text/plain": [
       "array([8.53567351e-04, 8.52877976e-04, 9.94878425e-01, 8.53645750e-04,\n",
       "       8.53392790e-04, 8.54096200e-04, 8.53995055e-04])"
      ]
     },
     "execution_count": 35,
     "metadata": {},
     "output_type": "execute_result"
    }
   ],
   "source": [
    "results[0]"
   ]
  },
  {
   "cell_type": "code",
   "execution_count": 36,
   "id": "60160840",
   "metadata": {},
   "outputs": [],
   "source": [
    "df['topic']=results.argmax(axis=1)"
   ]
  },
  {
   "cell_type": "code",
   "execution_count": 37,
   "id": "780fab41",
   "metadata": {},
   "outputs": [
    {
     "data": {
      "text/html": [
       "<div>\n",
       "<style scoped>\n",
       "    .dataframe tbody tr th:only-of-type {\n",
       "        vertical-align: middle;\n",
       "    }\n",
       "\n",
       "    .dataframe tbody tr th {\n",
       "        vertical-align: top;\n",
       "    }\n",
       "\n",
       "    .dataframe thead th {\n",
       "        text-align: right;\n",
       "    }\n",
       "</style>\n",
       "<table border=\"1\" class=\"dataframe\">\n",
       "  <thead>\n",
       "    <tr style=\"text-align: right;\">\n",
       "      <th></th>\n",
       "      <th>ID</th>\n",
       "      <th>TITLE</th>\n",
       "      <th>ABSTRACT</th>\n",
       "      <th>Computer Science</th>\n",
       "      <th>Physics</th>\n",
       "      <th>Mathematics</th>\n",
       "      <th>Statistics</th>\n",
       "      <th>Quantitative Biology</th>\n",
       "      <th>Quantitative Finance</th>\n",
       "      <th>topic</th>\n",
       "    </tr>\n",
       "  </thead>\n",
       "  <tbody>\n",
       "    <tr>\n",
       "      <th>0</th>\n",
       "      <td>1</td>\n",
       "      <td>Reconstructing Subject-Specific Effect Maps</td>\n",
       "      <td>Predictive models allow subject-specific inf...</td>\n",
       "      <td>1</td>\n",
       "      <td>0</td>\n",
       "      <td>0</td>\n",
       "      <td>0</td>\n",
       "      <td>0</td>\n",
       "      <td>0</td>\n",
       "      <td>2</td>\n",
       "    </tr>\n",
       "    <tr>\n",
       "      <th>1</th>\n",
       "      <td>2</td>\n",
       "      <td>Rotation Invariance Neural Network</td>\n",
       "      <td>Rotation invariance and translation invarian...</td>\n",
       "      <td>1</td>\n",
       "      <td>0</td>\n",
       "      <td>0</td>\n",
       "      <td>0</td>\n",
       "      <td>0</td>\n",
       "      <td>0</td>\n",
       "      <td>5</td>\n",
       "    </tr>\n",
       "    <tr>\n",
       "      <th>2</th>\n",
       "      <td>3</td>\n",
       "      <td>Spherical polyharmonics and Poisson kernels fo...</td>\n",
       "      <td>We introduce and develop the notion of spher...</td>\n",
       "      <td>0</td>\n",
       "      <td>0</td>\n",
       "      <td>1</td>\n",
       "      <td>0</td>\n",
       "      <td>0</td>\n",
       "      <td>0</td>\n",
       "      <td>3</td>\n",
       "    </tr>\n",
       "    <tr>\n",
       "      <th>3</th>\n",
       "      <td>4</td>\n",
       "      <td>A finite element approximation for the stochas...</td>\n",
       "      <td>The stochastic Landau--Lifshitz--Gilbert (LL...</td>\n",
       "      <td>0</td>\n",
       "      <td>0</td>\n",
       "      <td>1</td>\n",
       "      <td>0</td>\n",
       "      <td>0</td>\n",
       "      <td>0</td>\n",
       "      <td>3</td>\n",
       "    </tr>\n",
       "    <tr>\n",
       "      <th>4</th>\n",
       "      <td>5</td>\n",
       "      <td>Comparative study of Discrete Wavelet Transfor...</td>\n",
       "      <td>Fourier-transform infra-red (FTIR) spectra o...</td>\n",
       "      <td>1</td>\n",
       "      <td>0</td>\n",
       "      <td>0</td>\n",
       "      <td>1</td>\n",
       "      <td>0</td>\n",
       "      <td>0</td>\n",
       "      <td>5</td>\n",
       "    </tr>\n",
       "  </tbody>\n",
       "</table>\n",
       "</div>"
      ],
      "text/plain": [
       "   ID                                              TITLE  \\\n",
       "0   1        Reconstructing Subject-Specific Effect Maps   \n",
       "1   2                 Rotation Invariance Neural Network   \n",
       "2   3  Spherical polyharmonics and Poisson kernels fo...   \n",
       "3   4  A finite element approximation for the stochas...   \n",
       "4   5  Comparative study of Discrete Wavelet Transfor...   \n",
       "\n",
       "                                            ABSTRACT  Computer Science  \\\n",
       "0    Predictive models allow subject-specific inf...                 1   \n",
       "1    Rotation invariance and translation invarian...                 1   \n",
       "2    We introduce and develop the notion of spher...                 0   \n",
       "3    The stochastic Landau--Lifshitz--Gilbert (LL...                 0   \n",
       "4    Fourier-transform infra-red (FTIR) spectra o...                 1   \n",
       "\n",
       "   Physics  Mathematics  Statistics  Quantitative Biology  \\\n",
       "0        0            0           0                     0   \n",
       "1        0            0           0                     0   \n",
       "2        0            1           0                     0   \n",
       "3        0            1           0                     0   \n",
       "4        0            0           1                     0   \n",
       "\n",
       "   Quantitative Finance  topic  \n",
       "0                     0      2  \n",
       "1                     0      5  \n",
       "2                     0      3  \n",
       "3                     0      3  \n",
       "4                     0      5  "
      ]
     },
     "execution_count": 37,
     "metadata": {},
     "output_type": "execute_result"
    }
   ],
   "source": [
    "df.head()"
   ]
  },
  {
   "cell_type": "code",
   "execution_count": 45,
   "id": "4eb1d195",
   "metadata": {},
   "outputs": [],
   "source": [
    "dataset=df.drop(columns=['Computer Science', 'Physics', 'Mathematics', 'Statistics', 'Quantitative Finance', 'Quantitative Biology'])"
   ]
  },
  {
   "cell_type": "code",
   "execution_count": 47,
   "id": "1e3d2811",
   "metadata": {},
   "outputs": [
    {
     "data": {
      "text/html": [
       "<div>\n",
       "<style scoped>\n",
       "    .dataframe tbody tr th:only-of-type {\n",
       "        vertical-align: middle;\n",
       "    }\n",
       "\n",
       "    .dataframe tbody tr th {\n",
       "        vertical-align: top;\n",
       "    }\n",
       "\n",
       "    .dataframe thead th {\n",
       "        text-align: right;\n",
       "    }\n",
       "</style>\n",
       "<table border=\"1\" class=\"dataframe\">\n",
       "  <thead>\n",
       "    <tr style=\"text-align: right;\">\n",
       "      <th></th>\n",
       "      <th>ID</th>\n",
       "      <th>TITLE</th>\n",
       "      <th>ABSTRACT</th>\n",
       "      <th>topic</th>\n",
       "    </tr>\n",
       "  </thead>\n",
       "  <tbody>\n",
       "    <tr>\n",
       "      <th>0</th>\n",
       "      <td>1</td>\n",
       "      <td>Reconstructing Subject-Specific Effect Maps</td>\n",
       "      <td>Predictive models allow subject-specific inf...</td>\n",
       "      <td>2</td>\n",
       "    </tr>\n",
       "    <tr>\n",
       "      <th>1</th>\n",
       "      <td>2</td>\n",
       "      <td>Rotation Invariance Neural Network</td>\n",
       "      <td>Rotation invariance and translation invarian...</td>\n",
       "      <td>5</td>\n",
       "    </tr>\n",
       "    <tr>\n",
       "      <th>2</th>\n",
       "      <td>3</td>\n",
       "      <td>Spherical polyharmonics and Poisson kernels fo...</td>\n",
       "      <td>We introduce and develop the notion of spher...</td>\n",
       "      <td>3</td>\n",
       "    </tr>\n",
       "    <tr>\n",
       "      <th>3</th>\n",
       "      <td>4</td>\n",
       "      <td>A finite element approximation for the stochas...</td>\n",
       "      <td>The stochastic Landau--Lifshitz--Gilbert (LL...</td>\n",
       "      <td>3</td>\n",
       "    </tr>\n",
       "    <tr>\n",
       "      <th>4</th>\n",
       "      <td>5</td>\n",
       "      <td>Comparative study of Discrete Wavelet Transfor...</td>\n",
       "      <td>Fourier-transform infra-red (FTIR) spectra o...</td>\n",
       "      <td>5</td>\n",
       "    </tr>\n",
       "    <tr>\n",
       "      <th>5</th>\n",
       "      <td>6</td>\n",
       "      <td>On maximizing the fundamental frequency of the...</td>\n",
       "      <td>Let $\\Omega \\subset \\mathbb{R}^n$ be a bound...</td>\n",
       "      <td>3</td>\n",
       "    </tr>\n",
       "    <tr>\n",
       "      <th>6</th>\n",
       "      <td>7</td>\n",
       "      <td>On the rotation period and shape of the hyperb...</td>\n",
       "      <td>We observed the newly discovered hyperbolic ...</td>\n",
       "      <td>4</td>\n",
       "    </tr>\n",
       "    <tr>\n",
       "      <th>7</th>\n",
       "      <td>8</td>\n",
       "      <td>Adverse effects of polymer coating on heat tra...</td>\n",
       "      <td>The ability of metallic nanoparticles to sup...</td>\n",
       "      <td>4</td>\n",
       "    </tr>\n",
       "    <tr>\n",
       "      <th>8</th>\n",
       "      <td>9</td>\n",
       "      <td>SPH calculations of Mars-scale collisions: the...</td>\n",
       "      <td>We model large-scale ($\\approx$2000km) impac...</td>\n",
       "      <td>4</td>\n",
       "    </tr>\n",
       "    <tr>\n",
       "      <th>9</th>\n",
       "      <td>10</td>\n",
       "      <td>$\\mathcal{R}_{0}$ fails to predict the outbrea...</td>\n",
       "      <td>Time varying susceptibility of host at indiv...</td>\n",
       "      <td>1</td>\n",
       "    </tr>\n",
       "  </tbody>\n",
       "</table>\n",
       "</div>"
      ],
      "text/plain": [
       "   ID                                              TITLE  \\\n",
       "0   1        Reconstructing Subject-Specific Effect Maps   \n",
       "1   2                 Rotation Invariance Neural Network   \n",
       "2   3  Spherical polyharmonics and Poisson kernels fo...   \n",
       "3   4  A finite element approximation for the stochas...   \n",
       "4   5  Comparative study of Discrete Wavelet Transfor...   \n",
       "5   6  On maximizing the fundamental frequency of the...   \n",
       "6   7  On the rotation period and shape of the hyperb...   \n",
       "7   8  Adverse effects of polymer coating on heat tra...   \n",
       "8   9  SPH calculations of Mars-scale collisions: the...   \n",
       "9  10  $\\mathcal{R}_{0}$ fails to predict the outbrea...   \n",
       "\n",
       "                                            ABSTRACT  topic  \n",
       "0    Predictive models allow subject-specific inf...      2  \n",
       "1    Rotation invariance and translation invarian...      5  \n",
       "2    We introduce and develop the notion of spher...      3  \n",
       "3    The stochastic Landau--Lifshitz--Gilbert (LL...      3  \n",
       "4    Fourier-transform infra-red (FTIR) spectra o...      5  \n",
       "5    Let $\\Omega \\subset \\mathbb{R}^n$ be a bound...      3  \n",
       "6    We observed the newly discovered hyperbolic ...      4  \n",
       "7    The ability of metallic nanoparticles to sup...      4  \n",
       "8    We model large-scale ($\\approx$2000km) impac...      4  \n",
       "9    Time varying susceptibility of host at indiv...      1  "
      ]
     },
     "execution_count": 47,
     "metadata": {},
     "output_type": "execute_result"
    }
   ],
   "source": [
    "dataset.head(10)"
   ]
  },
  {
   "cell_type": "code",
   "execution_count": null,
   "id": "6c9afc9f",
   "metadata": {},
   "outputs": [],
   "source": []
  }
 ],
 "metadata": {
  "kernelspec": {
   "display_name": "Python 3",
   "language": "python",
   "name": "python3"
  },
  "language_info": {
   "codemirror_mode": {
    "name": "ipython",
    "version": 3
   },
   "file_extension": ".py",
   "mimetype": "text/x-python",
   "name": "python",
   "nbconvert_exporter": "python",
   "pygments_lexer": "ipython3",
   "version": "3.8.8"
  }
 },
 "nbformat": 4,
 "nbformat_minor": 5
}
